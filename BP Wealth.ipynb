{
 "cells": [
  {
   "cell_type": "code",
   "execution_count": 3,
   "id": "3fc3ab2e",
   "metadata": {},
   "outputs": [
    {
     "name": "stdout",
     "output_type": "stream",
     "text": [
      "Best thresholds: Build = 0.30000000000000004, Liquidate = 0.1\n",
      "Best PnL: 2.0905118327390944\n"
     ]
    }
   ],
   "source": [
    "import pandas as pd\n",
    "import numpy as np\n",
    "\n",
    "class TradingStrategy:\n",
    "    def __init__(self, build_threshold, liquidate_threshold):\n",
    "        self.build_threshold = build_threshold\n",
    "        self.liquidate_threshold = liquidate_threshold\n",
    "        self.position = 0\n",
    "\n",
    "    def generate_positions(self, data):\n",
    "        data['position'] = 0\n",
    "        for i in range(1, len(data)):\n",
    "            alpha = data.loc[i, 'alpha']\n",
    "            if self.position == 0:\n",
    "                if alpha >= self.build_threshold:\n",
    "                    self.position = 1\n",
    "                elif alpha <= -self.build_threshold:\n",
    "                    self.position = -1\n",
    "            elif self.position == 1:\n",
    "                if alpha <= self.liquidate_threshold:\n",
    "                    self.position = 0\n",
    "            elif self.position == -1:\n",
    "                if alpha >= -self.liquidate_threshold:\n",
    "                    self.position = 0\n",
    "            data.loc[i, 'position'] = self.position\n",
    "        return data\n",
    "\n",
    "class BacktestingEngine:\n",
    "    def __init__(self, data):\n",
    "        self.data = data\n",
    "\n",
    "    def calculate_pnl(self, strategy_data):\n",
    "        strategy_data['return'] = strategy_data['price'].pct_change().fillna(0)\n",
    "        strategy_data['PnL'] = strategy_data['position'].shift(1) * strategy_data['return']\n",
    "        strategy_data['PnL'] = strategy_data['PnL'].fillna(0)\n",
    "        strategy_data['cumulative_PnL'] = strategy_data['PnL'].cumsum()\n",
    "        return strategy_data\n",
    "\n",
    "class ThresholdOptimizer:\n",
    "    def __init__(self, data):\n",
    "        self.data = data\n",
    "\n",
    "    def optimize(self, build_thresholds, liquidate_thresholds):\n",
    "        best_PnL = -np.inf\n",
    "        best_thresholds = (0, 0)\n",
    "        for build_threshold in build_thresholds:\n",
    "            for liquidate_threshold in liquidate_thresholds:\n",
    "                strategy = TradingStrategy(build_threshold, liquidate_threshold)\n",
    "                strategy_data = strategy.generate_positions(self.data.copy())\n",
    "                engine = BacktestingEngine(strategy_data)\n",
    "                result_data = engine.calculate_pnl(strategy_data)\n",
    "                cumulative_PnL = result_data['cumulative_PnL'].iloc[-1]\n",
    "                if cumulative_PnL > best_PnL:\n",
    "                    best_PnL = cumulative_PnL\n",
    "                    best_thresholds = (build_threshold, liquidate_threshold)\n",
    "        return best_thresholds, best_PnL\n",
    "\n",
    "# Load the dataset\n",
    "data = pd.read_csv('asset_1.csv')\n",
    "\n",
    "\n",
    "build_thresholds = np.arange(0.1, 1.0, 0.1)\n",
    "liquidate_thresholds = np.arange(0.1, 1.0, 0.1)\n",
    "\n",
    "\n",
    "optimizer = ThresholdOptimizer(data)\n",
    "\n",
    "\n",
    "best_thresholds, best_PnL = optimizer.optimize(build_thresholds, liquidate_thresholds)\n",
    "\n",
    "\n",
    "print(f'Best thresholds: Build = {best_thresholds[0]}, Liquidate = {best_thresholds[1]}')\n",
    "print(f'Best PnL: {best_PnL}')\n"
   ]
  },
  {
   "cell_type": "code",
   "execution_count": null,
   "id": "1e61ad99",
   "metadata": {},
   "outputs": [],
   "source": []
  },
  {
   "cell_type": "code",
   "execution_count": null,
   "id": "99f7f1af",
   "metadata": {},
   "outputs": [],
   "source": []
  }
 ],
 "metadata": {
  "kernelspec": {
   "display_name": "Python 3 (ipykernel)",
   "language": "python",
   "name": "python3"
  },
  "language_info": {
   "codemirror_mode": {
    "name": "ipython",
    "version": 3
   },
   "file_extension": ".py",
   "mimetype": "text/x-python",
   "name": "python",
   "nbconvert_exporter": "python",
   "pygments_lexer": "ipython3",
   "version": "3.9.13"
  }
 },
 "nbformat": 4,
 "nbformat_minor": 5
}
